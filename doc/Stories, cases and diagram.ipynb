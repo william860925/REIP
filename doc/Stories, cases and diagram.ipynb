{
 "cells": [
  {
   "cell_type": "markdown",
   "id": "c78e6f02-6438-407c-bd28-c2be5a713599",
   "metadata": {},
   "source": [
    "### Use story:"
   ]
  },
  {
   "cell_type": "markdown",
   "id": "85813a53-ed49-4e02-add3-d7fe1b4ca113",
   "metadata": {},
   "source": [
    "The goal of this project is to develop a software to help new comer students to get familiar in specific microscope, including TEM, SEM and AFM etc. A common question for new comers is how to judge the quality of images. In this case, the software is developed to distinguish whether the image is noisy, well-exposed or suffer from unsharpness or blur with the function of image optimization. After the judgement from the software is been made, students decide whether spending time to optimize the image or not. Image restoration, such as denoting and inpainting, is included to optimize the picture in this software. Depending on the quality of the image, the restoration time varies. Receiving the final image, students are able to get the ideal images for their research."
   ]
  },
  {
   "cell_type": "markdown",
   "id": "eb153da7-11ec-444b-a77d-ada20d863418",
   "metadata": {},
   "source": [
    "### Use cases and component:\n",
    "\n",
    "1. Give the score of the microscopic images (ex. Score 0 = great, score 1 = ambiguity, score 2 = serious damaged)\n",
    "- Name: Image labeling\n",
    "- What it does: give a score to the image\n",
    "- Input: raw image data\n",
    "- Output: integer (0, 1, 2)\n",
    "\n",
    "2. Classify the bad images into several categories by their scores \n",
    "- Name: Image classification\n",
    "- What it does: Classify the images into several categories\n",
    "- Input: return the integer values from the previous case\n",
    "- Output: Specific categories according to their score\n",
    "\n",
    "3. Restore the damaged images and give suggestions\n",
    "- Name: Image restoration\n",
    "- What it does: restore the damaged images \n",
    "- Input: damaged images\n",
    "- Output: restore the images and give suggestions according to their categories \n"
   ]
  }
 ],
 "metadata": {
  "kernelspec": {
   "display_name": "Python 3 (ipykernel)",
   "language": "python",
   "name": "python3"
  },
  "language_info": {
   "codemirror_mode": {
    "name": "ipython",
    "version": 3
   },
   "file_extension": ".py",
   "mimetype": "text/x-python",
   "name": "python",
   "nbconvert_exporter": "python",
   "pygments_lexer": "ipython3",
   "version": "3.9.7"
  }
 },
 "nbformat": 4,
 "nbformat_minor": 5
}
