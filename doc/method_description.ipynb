{
 "cells": [
  {
   "cell_type": "markdown",
   "id": "4be97d1a-8a01-4d6a-9dce-0022e5d09f71",
   "metadata": {},
   "source": [
    "## Descriptions:"
   ]
  },
  {
   "cell_type": "markdown",
   "id": "903186a5-026c-4c4c-88dc-ba7fbd43b85a",
   "metadata": {
    "tags": []
   },
   "source": [
    "<code>Img_processing</code> : Using openCV’s function to sharpen the images. This function uses a Gaussian \n",
    "blur filter which reduces the high-frequency components. With the function of add-weighted, we \n",
    "blend the original and the blurred image. Finally, we use the function of sharpening to enhance \n",
    "the contrast of the edges.\n",
    "\n",
    "<code>EDSR</code> : EDSR(Enhanced Deep Super-Resolution network ) presented by Dr. Lee and his group, \n",
    "removing the batch normalizing layer from typical convolution neural network method for \n",
    "lowering the reduction of cost in memory usage (40% !), general CNN architecture with depth \n",
    "(the number of layers) ‘B’ and width (the number of feature channels) ‘F’ occupies roughly \n",
    "O(BF) in memory with O(BF2) parameters, therefore, increasing of F other than B can optimize \n",
    "the model capacity compared to improving the B. However, lowering the depth will lead to the \n",
    "training procedure being more unstable, as a result, scaling the factor into 0.1 will resolve this \n",
    "problem and get a huge improvement.\n",
    "\n",
    "<code>Enhance_details</code> : Using openCV’s function to enhance the details of the images. Its output is \n",
    "quite similar to sharpening. Changing the parameters of sigma’s and sigma to control the level of \n",
    "smoothness.\n",
    "\n",
    "<code>ESPCN</code> : The typical CNN method is upscaled from low resolution (LR) to high resolution (HR) and \n",
    "reconstructed from HR to super-resolution (SR), Dr. Wang and his team purpose the application \n",
    "of ESPCN method has directly utilized the feature extracted from LR space with introducing a \n",
    "new sub-pixel convolution layer to upscale the final LR feature maps into HR output. As a result, \n",
    "the run time is becoming 60% faster than the traditional method.\n",
    "\n",
    "<code>FSRCNN</code> : Features of FSRCNN is similar to ESPCN, learning directly from the pristine low resolution \n",
    "(LR) instead to high resolution (HR) by introducing the deconvolution layer at end of the \n",
    "network, also shrinking the input feature dimension for further increasing the training speed. As \n",
    "a result, FSRCNN is superb efficient in time complexity compared to conventional SRCNN, \n",
    "serving the fast image processing method.\n",
    "\n",
    "<code>LapSCN</code> : The LapSCN (Laplacian pyramid super resolution network), is evolved in ESPCN and FSRCNN, \n",
    "gradually reconstruct HR images in a coarse-to-fine fashion, and progressively demanding the \n",
    "memory and time to execute image processing, therefore the time consuming and restoration \n",
    "result is between fast restoration (ESPCN, FSRCNN) and thoroughly restoration (EDSR). "
   ]
  }
 ],
 "metadata": {
  "kernelspec": {
   "display_name": "Python 3 (ipykernel)",
   "language": "python",
   "name": "python3"
  },
  "language_info": {
   "codemirror_mode": {
    "name": "ipython",
    "version": 3
   },
   "file_extension": ".py",
   "mimetype": "text/x-python",
   "name": "python",
   "nbconvert_exporter": "python",
   "pygments_lexer": "ipython3",
   "version": "3.9.7"
  }
 },
 "nbformat": 4,
 "nbformat_minor": 5
}
